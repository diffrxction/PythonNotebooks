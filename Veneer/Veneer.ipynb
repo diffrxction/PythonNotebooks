{
 "cells": [
  {
   "cell_type": "code",
   "execution_count": null,
   "metadata": {},
   "outputs": [],
   "source": [
    "class Art:\n",
    "  def __init__(self,artist,title,medium,year,owner):\n",
    "    self.artist = artist\n",
    "    self.title = title\n",
    "    self.medium = medium\n",
    "    self.year = year\n",
    "    self.owner = owner\n",
    "  def __repr__(self):\n",
    "    return \"{0}. \\\"{1}\\\". {3}, {2}. {4}, {5}.\".format(self.artist, self.title, self.year, self.medium,self.owner.name, self.owner.location)"
   ]
  },
  {
   "cell_type": "code",
   "execution_count": null,
   "metadata": {},
   "outputs": [],
   "source": [
    "class Marketplace:\n",
    "  def __init__(self,listings = []):\n",
    "    self.listings = listings\n",
    "  def add_listing(self,new_listing):\n",
    "    self.listings.append(new_listing)\n",
    "  def remove_listing(self,listing):\n",
    "    self.listings.remove(listing)\n",
    "  def show_listings(self):\n",
    "    for item in self.listings:\n",
    "      print(item)"
   ]
  },
  {
   "cell_type": "code",
   "execution_count": null,
   "metadata": {},
   "outputs": [],
   "source": [
    "class Client:\n",
    "  def __init__(self,name,location,is_museum):\n",
    "    self.name = name\n",
    "    self.location = location\n",
    "    self.is_museum = is_museum\n",
    "  def sell_artwork(self, artwork, price):\n",
    "    if artwork.owner == self:\n",
    "      new_listing = Listing(artwork, price, self)\n",
    "      veneer.add_listing(new_listing)\n",
    "  def buy_artwork(self,artwork):\n",
    "    if str(artwork.owner) != self:\n",
    "      art_listing = None\n",
    "      for listing in veneer.listings:\n",
    "        if listing.art == artwork:\n",
    "          art_listing = listing\n",
    "          break\n",
    "      if art_listing != None:\n",
    "        art_listing.art.owner = self\n",
    "        veneer.remove_listing(art_listing)"
   ]
  },
  {
   "cell_type": "code",
   "execution_count": null,
   "metadata": {},
   "outputs": [],
   "source": [
    "class Listing:\n",
    "  def __init__(self,art,price,seller):\n",
    "    self.art = art\n",
    "    self.price = price\n",
    "    self.seller = seller\n",
    "  def __repr__(self):\n",
    "    return '%s, %s. ' %(self.art.title, self.price)"
   ]
  },
  {
   "cell_type": "code",
   "execution_count": null,
   "metadata": {},
   "outputs": [],
   "source": [
    "veneer = Marketplace()\n",
    "veneer.show_listings()"
   ]
  },
  {
   "cell_type": "code",
   "execution_count": null,
   "metadata": {},
   "outputs": [],
   "source": [
    "edytta = Client(\"Edytta Halpirt\", \"Private Collection\", False)\n",
    "print(edytta)"
   ]
  },
  {
   "cell_type": "code",
   "execution_count": null,
   "metadata": {},
   "outputs": [],
   "source": [
    "girl_with_a_mandolin = Art(\"Picasso, Pablo\", \"Girl with a Mandolin (Fanny Tellier)\", 1910, \"oil on canvas\", edytta)"
   ]
  },
  {
   "cell_type": "code",
   "execution_count": null,
   "metadata": {},
   "outputs": [],
   "source": [
    "print(girl_with_a_mandolin)"
   ]
  },
  {
   "cell_type": "code",
   "execution_count": null,
   "metadata": {},
   "outputs": [],
   "source": [
    "moma = Client(\"The MOMA\", \"New York\", True)"
   ]
  },
  {
   "cell_type": "code",
   "execution_count": null,
   "metadata": {},
   "outputs": [],
   "source": [
    "edytta.sell_artwork(girl_with_a_mandolin, \"$6M(USD)\")"
   ]
  },
  {
   "cell_type": "code",
   "execution_count": null,
   "metadata": {},
   "outputs": [],
   "source": [
    "veneer.show_listings()"
   ]
  },
  {
   "cell_type": "code",
   "execution_count": null,
   "metadata": {},
   "outputs": [],
   "source": [
    "moma.buy_artwork(girl_with_a_mandolin)"
   ]
  },
  {
   "cell_type": "code",
   "execution_count": null,
   "metadata": {},
   "outputs": [],
   "source": [
    "print(girl_with_a_mandolin)"
   ]
  },
  {
   "cell_type": "code",
   "execution_count": null,
   "metadata": {},
   "outputs": [],
   "source": [
    "veneer.show_listings()"
   ]
  },
  {
   "cell_type": "code",
   "execution_count": null,
   "metadata": {},
   "outputs": [],
   "source": []
  }
 ],
 "metadata": {
  "kernelspec": {
   "display_name": "Python 3",
   "language": "python",
   "name": "python3"
  },
  "language_info": {
   "codemirror_mode": {
    "name": "ipython",
    "version": 3
   },
   "file_extension": ".py",
   "mimetype": "text/x-python",
   "name": "python",
   "nbconvert_exporter": "python",
   "pygments_lexer": "ipython3",
   "version": "3.8.3"
  }
 },
 "nbformat": 4,
 "nbformat_minor": 4
}
