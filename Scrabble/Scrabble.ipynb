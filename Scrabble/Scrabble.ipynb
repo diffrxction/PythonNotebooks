{
 "cells": [
  {
   "cell_type": "code",
   "execution_count": null,
   "metadata": {},
   "outputs": [],
   "source": [
    "letters = [\"A\", \"B\", \"C\", \"D\", \"E\", \"F\", \"G\", \"H\", \"I\", \"J\", \"K\", \"L\", \"M\", \"N\", \"O\", \"P\", \"Q\", \"R\", \"S\", \"T\", \"U\", \"V\", \"W\", \"X\", \"Y\", \"Z\"]\n",
    "points = [1, 3, 3, 2, 1, 4, 2, 4, 1, 8, 5, 1, 3, 4, 1, 3, 10, 1, 1, 1, 1, 4, 4, 8, 4, 10]\n",
    "letter_to_points = {letter:point for letter, point in zip(letters, points)}"
   ]
  },
  {
   "cell_type": "code",
   "execution_count": null,
   "metadata": {},
   "outputs": [],
   "source": [
    "#15\n",
    "letters += [letter.lower()\n",
    "for letter in letters]\n",
    "points += points"
   ]
  },
  {
   "cell_type": "code",
   "execution_count": null,
   "metadata": {},
   "outputs": [],
   "source": [
    "letter_to_points[\" \"] = 0"
   ]
  },
  {
   "cell_type": "code",
   "execution_count": null,
   "metadata": {},
   "outputs": [],
   "source": [
    "def score_word(word):\n",
    "  point_total = 0\n",
    "  for char in word:\n",
    "    if char in letter_to_points.keys():\n",
    "      point_total += letter_to_points.get(char.upper(),0)\n",
    "  return point_total"
   ]
  },
  {
   "cell_type": "code",
   "execution_count": null,
   "metadata": {},
   "outputs": [],
   "source": [
    "brownie_points = score_word(\"BROWNIE\")\n",
    "print(brownie_points)"
   ]
  },
  {
   "cell_type": "code",
   "execution_count": null,
   "metadata": {},
   "outputs": [],
   "source": [
    "player_to_words = {\"player1\": [\"BLUE\", \"TENNIS\", \"EXIT\"], \"wordNerd\": [\"EARTH\", \"EYES\", \"MACHINE\"], \"Lexi Con\": [\"ERASER\", \"BELLY\", \"HUSKY\"], \"Prof Reader\": [\"ZAP\", \"COMA\", \"PERIOD\"]}"
   ]
  },
  {
   "cell_type": "code",
   "execution_count": null,
   "metadata": {},
   "outputs": [],
   "source": [
    "player_to_points = {}"
   ]
  },
  {
   "cell_type": "code",
   "execution_count": null,
   "metadata": {},
   "outputs": [],
   "source": [
    "for players,words in player_to_words.items():\n",
    "  player_points = 0\n",
    "  for word in words:\n",
    "    player_points += score_word(word)\n",
    "  player_to_points[players] = player_points"
   ]
  },
  {
   "cell_type": "code",
   "execution_count": null,
   "metadata": {},
   "outputs": [],
   "source": [
    "print(player_to_points)"
   ]
  },
  {
   "cell_type": "code",
   "execution_count": 21,
   "metadata": {},
   "outputs": [
    {
     "name": "stdout",
     "output_type": "stream",
     "text": [
      "{'player1': 29, 'wordNerd': 32, 'Lexi Con': 31, 'Prof Reader': 31}\n"
     ]
    }
   ],
   "source": [
    "def play_word(player,word):\n",
    "  player_to_words[player].append(word)\n",
    "\n",
    "\n",
    "player_to_words = {}\n",
    "\n",
    "def update_point_totals():\n",
    "  for players,words in player_to_words.items():\n",
    "    player_points = 0\n",
    "    for word in words:\n",
    "      player_points += score_word(word)\n",
    "    player_to_points[players] = player_points\n",
    "  print(player_to_points)\n",
    "\n",
    "update_point_totals()"
   ]
  },
  {
   "cell_type": "code",
   "execution_count": null,
   "metadata": {},
   "outputs": [],
   "source": [
    "#__________________________________________END OF PROJECT__________________________________________________"
   ]
  }
 ],
 "metadata": {
  "kernelspec": {
   "display_name": "Python 3",
   "language": "python",
   "name": "python3"
  },
  "language_info": {
   "codemirror_mode": {
    "name": "ipython",
    "version": 3
   },
   "file_extension": ".py",
   "mimetype": "text/x-python",
   "name": "python",
   "nbconvert_exporter": "python",
   "pygments_lexer": "ipython3",
   "version": "3.8.3"
  }
 },
 "nbformat": 4,
 "nbformat_minor": 4
}
